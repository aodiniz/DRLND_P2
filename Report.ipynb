{
 "cells": [
  {
   "cell_type": "markdown",
   "metadata": {},
   "source": [
    "# Udacity Deep Reinforcement Learning Nanodegree\n",
    "## Project 2 (Continuous Control)\n",
    "\n",
    "---"
   ]
  },
  {
   "cell_type": "markdown",
   "metadata": {},
   "source": [
    "## Report"
   ]
  },
  {
   "cell_type": "markdown",
   "metadata": {},
   "source": [
    "#### Learning Algorithm\n",
    "\n",
    "The algorithm employed was the Deep Deterministic Policy Gradients (DDPG), which uses 2 groups of 2 twin Deep Neural Networks (DNN) to represent the Actor and Critic entities. These entities work together towards convergence of an approximation function applied on continuous action space scenarios, contributing with the tendency of high bias and high variance, respectively. The twin DNNs for each entity play a role of an 'effective' network (which provides the actual output for the entity) and a 'reference' network (which is used to keep weights with delayed updates, to avoid auto-referencing of the 'effective' network at learning time).\n",
    "\n",
    "The DNNs architectures employed on each type of entity are similar, with 3 fully connected layers and 1 batch normalization between the 1st and 2nd layer. Also, ReLU activation function is employed on the output of the 1st and 2nd layers. The differences arise on the input and output for each architecture: the Actor (as the main entity) gets the states as input and the actions as output (as would be with a regular DQN algorithm); the Critic gets the states as primary input, but also the actions as a secondary input (injected directly on the 2nd layer, alongside the output of the batch normalization layer), outputing the correspondent Q-value quantity.\n",
    "\n",
    "The learning happens every 20 steps, with each step implying the saving of an interaction set (comprised of state, action, reward, next state and 'done' flag). Each interaction set is store in a Memory Buffer, for random retrieval when feeding the entities (to avoid temporal correlation). The weights of the reference DNNs are not updated through backpropagation directly, but by copying a fraction of the effective network's weights.\n",
    "\n",
    "Other techniques employed to help learning are the clipping of Critic's output (in order to utilize this output in a range which is trustworthy) and the addition of noise to the predicted action value (based on Ornstein-Uhlenbeck formula, to increase exploration)."
   ]
  },
  {
   "cell_type": "markdown",
   "metadata": {},
   "source": [
    "#### Plot of Rewards\n",
    "\n",
    "A plot of rewards per episode is included to illustrate that the agent is able to receive an average reward (over 100 episodes) of at least +30."
   ]
  },
  {
   "cell_type": "code",
   "execution_count": 1,
   "metadata": {},
   "outputs": [],
   "source": [
    "from unityagents import UnityEnvironment\n",
    "\n",
    "import numpy as np\n",
    "import torch\n",
    "\n",
    "import matplotlib.pyplot as plt\n",
    "%matplotlib inline\n",
    "\n",
    "from ddpg_agent import Agent"
   ]
  },
  {
   "cell_type": "code",
   "execution_count": 2,
   "metadata": {},
   "outputs": [],
   "source": [
    "env_filename = './Reacher_Linux_1_agent_NoVis/Reacher.x86'"
   ]
  },
  {
   "cell_type": "code",
   "execution_count": 3,
   "metadata": {},
   "outputs": [
    {
     "name": "stderr",
     "output_type": "stream",
     "text": [
      "INFO:unityagents:\n",
      "'Academy' started successfully!\n",
      "Unity Academy name: Academy\n",
      "        Number of Brains: 1\n",
      "        Number of External Brains : 1\n",
      "        Lesson number : 0\n",
      "        Reset Parameters :\n",
      "\t\tgoal_size -> 5.0\n",
      "\t\tgoal_speed -> 1.0\n",
      "Unity brain name: ReacherBrain\n",
      "        Number of Visual Observations (per agent): 0\n",
      "        Vector Observation space type: continuous\n",
      "        Vector Observation space size (per agent): 33\n",
      "        Number of stacked Vector Observation: 1\n",
      "        Vector Action space type: continuous\n",
      "        Vector Action space size (per agent): 4\n",
      "        Vector Action descriptions: , , , \n"
     ]
    }
   ],
   "source": [
    "env = UnityEnvironment(file_name=env_filename)"
   ]
  },
  {
   "cell_type": "code",
   "execution_count": 4,
   "metadata": {},
   "outputs": [],
   "source": [
    "# get the default brain\n",
    "brain_name = env.brain_names[0]\n",
    "brain = env.brains[brain_name]"
   ]
  },
  {
   "cell_type": "code",
   "execution_count": 5,
   "metadata": {},
   "outputs": [],
   "source": [
    "# reset the environment\n",
    "env_info = env.reset(train_mode=False)[brain_name]\n",
    "\n",
    "# number of agents\n",
    "num_agents = len(env_info.agents)\n",
    "\n",
    "# number of actions\n",
    "action_size = brain.vector_action_space_size\n",
    "\n",
    "# examine the state space\n",
    "state = env_info.vector_observations[0]\n",
    "state_size = len(state)"
   ]
  },
  {
   "cell_type": "code",
   "execution_count": 6,
   "metadata": {},
   "outputs": [
    {
     "name": "stdout",
     "output_type": "stream",
     "text": [
      "Episode 1\tAverage Score: 32.23\n",
      "Episode 2\tAverage Score: 39.54\n",
      "Episode 3\tAverage Score: 32.59\n",
      "Episode 4\tAverage Score: 30.48\n",
      "Episode 5\tAverage Score: 34.93\n",
      "Episode 6\tAverage Score: 34.24\n",
      "Episode 7\tAverage Score: 33.19\n",
      "Episode 8\tAverage Score: 32.13\n",
      "Episode 9\tAverage Score: 32.40\n",
      "Episode 10\tAverage Score: 31.77\n"
     ]
    },
    {
     "data": {
      "image/png": "[encoded data removed]",
      "text/plain": [
       "<Figure size 432x288 with 1 Axes>"
      ]
     },
     "metadata": {
      "needs_background": "light"
     },
     "output_type": "display_data"
    }
   ],
   "source": [
    "# initialize the agent\n",
    "agent = Agent(state_size=state_size, action_size=action_size, random_seed=42)\n",
    "\n",
    "# load the weights from file\n",
    "\n",
    "agent.actor_local.load_state_dict(torch.load('checkpoint_actor.pth'))\n",
    "agent.critic_local.load_state_dict(torch.load('checkpoint_critic.pth'))\n",
    "\n",
    "num_episodes = 10\n",
    "scores_list = []\n",
    "for i_episode in range(1,num_episodes+1):\n",
    "    env_info = env.reset(train_mode=False)[brain_name] # reset the environment\n",
    "    states = env_info.vector_observations              # get the current state\n",
    "    \n",
    "    scores = np.zeros(num_agents)                      # initialize the score\n",
    "    while True:\n",
    "        action = agent.act(states, add_noise=False)    # select an action\n",
    "        env_info = env.step(action)[brain_name]        # send the action to the env\n",
    "        next_states = env_info.vector_observations     # get the next state\n",
    "        rewards = env_info.rewards                     # get the reward\n",
    "        dones = env_info.local_done                    # is episode done?\n",
    "\n",
    "        scores += rewards                              # update the score\n",
    "        states = next_states                           # set state to next state\n",
    "        if np.any(dones):                              # are we done yet?\n",
    "            scores_list.append(scores)\n",
    "            print('\\rEpisode {}\\tAverage Score: {:.2f}'.format(i_episode, np.mean(scores)))\n",
    "            break\n",
    "\n",
    "# plot the scores\n",
    "fig = plt.figure()\n",
    "ax = fig.add_subplot(111)\n",
    "plt.plot(np.arange(len(scores_list)), scores_list)\n",
    "plt.ylabel('Score')\n",
    "plt.xlabel('Episode #')\n",
    "plt.show()"
   ]
  },
  {
   "cell_type": "code",
   "execution_count": 7,
   "metadata": {},
   "outputs": [],
   "source": [
    "env.close()"
   ]
  },
  {
   "cell_type": "markdown",
   "metadata": {},
   "source": [
    "#### Ideas for Future Work\n",
    "\n",
    "Besides DDPG, other algorithms could be employed to deal with the problem proposed, such as Asynchronous Advantage Actor-Critic (A3C), Advantage Actor-Critic (A2C) and Generalized Advantage Estimation (GAE)."
   ]
  }
 ],
 "metadata": {
  "kernelspec": {
   "display_name": "Python 3",
   "language": "python",
   "name": "python3"
  },
  "language_info": {
   "codemirror_mode": {
    "name": "ipython",
    "version": 3
   },
   "file_extension": ".py",
   "mimetype": "text/x-python",
   "name": "python",
   "nbconvert_exporter": "python",
   "pygments_lexer": "ipython3",
   "version": "3.7.3"
  }
 },
 "nbformat": 4,
 "nbformat_minor": 2
}
